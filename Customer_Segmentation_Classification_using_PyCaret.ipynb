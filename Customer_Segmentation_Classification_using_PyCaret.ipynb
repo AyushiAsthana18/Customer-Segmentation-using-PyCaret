{
 "cells": [
  {
   "cell_type": "markdown",
   "metadata": {},
   "source": [
    "Date: 1st June 2023"
   ]
  },
  {
   "cell_type": "markdown",
   "metadata": {},
   "source": [
    "Author: Ayushi Asthana"
   ]
  },
  {
   "cell_type": "markdown",
   "metadata": {},
   "source": [
    "# **Usecase: Customer Segmentation Classification**\n",
    "\n",
    "#### Problem Statement / Requirement \n",
    "Reference Link: https://www.kaggle.com/datasets/kaushiksuresh147/customer-segmentation?resource=download\n",
    "\n",
    "An automobile company has plans to enter new markets with their existing products (P1, P2, P3, P4, and P5). After intensive market research, they’ve deduced that the behavior of the new market is similar to their existing market.\n",
    "In their existing market, the sales team has classified all customers into 4 segments (A, B, C, D ). Then, they performed segmented outreach and communication for a different segment of customers. This strategy has worked exceptionally well for them. They plan to use the same strategy for the new markets and have identified 2627 new potential customers.\n",
    "You are required to help the manager to predict the right group of the new customers.\n",
    "\n",
    "#### Solution Overview\n",
    "Using PyCaret, create & review multiple classification models. Choose the best model & using it, predict the new customer segments."
   ]
  },
  {
   "cell_type": "markdown",
   "metadata": {},
   "source": [
    "## 1) Import Libraries"
   ]
  },
  {
   "cell_type": "code",
   "execution_count": 1,
   "metadata": {
    "_cell_guid": "b1076dfc-b9ad-4769-8c92-a6c4dae69d19",
    "_uuid": "8f2839f25d086af736a60e9eeb907d3b93b6e0e5"
   },
   "outputs": [],
   "source": [
    "import numpy as np\n",
    "import pandas as pd \n",
    "\n",
    "import pycaret \n",
    "import matplotlib.pyplot as plt"
   ]
  },
  {
   "cell_type": "code",
   "execution_count": 2,
   "metadata": {},
   "outputs": [],
   "source": [
    "import matplotlib.pyplot as plt"
   ]
  },
  {
   "cell_type": "markdown",
   "metadata": {},
   "source": [
    "## 2) Loading Data"
   ]
  },
  {
   "cell_type": "markdown",
   "metadata": {},
   "source": [
    "Data Source Details:\n",
    "\n",
    "* Link: https://www.kaggle.com/datasets/kaushiksuresh147/customer-segmentation?resource=download\n",
    "* Source: Analytics vidhya hackathon\n",
    "* Collection Methodology: This dataset was published by analytics vidhya for one of their competitions"
   ]
  },
  {
   "cell_type": "code",
   "execution_count": 3,
   "metadata": {
    "_cell_guid": "79c7e3d0-c299-4dcb-8224-4455121ee9b0",
    "_uuid": "d629ff2d2480ee46fbb7e2d37f6b5fab8052498a"
   },
   "outputs": [],
   "source": [
    "#Load train & test files\n",
    "train = pd.read_csv(r'C:\\Users\\hp\\Desktop\\Portfolio Projects\\PyCaret Implimantation + ML in powerbi\\Dataset\\Train.csv')\n",
    "test = pd.read_csv(r'C:\\Users\\hp\\Desktop\\Portfolio Projects\\PyCaret Implimantation + ML in powerbi\\Dataset\\Test.csv')\n",
    "\n",
    "#Joining test and train data frames together for analyzing the complete data\n",
    "df = pd.concat([train,test],axis=0)"
   ]
  },
  {
   "cell_type": "markdown",
   "metadata": {},
   "source": [
    "## 3) Environment Setup"
   ]
  },
  {
   "cell_type": "markdown",
   "metadata": {},
   "source": [
    "Before setting up the environment, we must import the appropriate module for our data. In our usecase it is of classification module.\n",
    "\n",
    "The core setup of the Pycaret environment lies in a function named setup(). The setup() function starts the environment and pipeline to handle the data for modeling and deployment. This function must be initiated before executing other functions in PyCaret.\n",
    "\n",
    "There are around 50 parameters that are to be fed into setup() function, out of which there are only two mandatory parameters to be fed and they are Data & Target parameter. Other parameters have default values & can be changed according to dataset & its requirements."
   ]
  },
  {
   "cell_type": "markdown",
   "metadata": {},
   "source": [
    "### Exploratory Data Analysis"
   ]
  },
  {
   "cell_type": "markdown",
   "metadata": {},
   "source": [
    "By EDA we will try to answers following questions, based on which we will identify the value of related parameters for the pre-processing using pycaret: \n",
    "\n",
    "#### **(i) Data Preparation & Normalization/Transformation**\n",
    "\n",
    "* What are the Data Types of the Feature?\n",
    "* Does the data contain missing values. If yes how to handle missing values for different data types?\n",
    "* Incase of categorical data what type of encodin is required based of type of categorical data?\n",
    "* Dataset is imbalanced or balance?\n",
    "* Any potential Outliers?\n",
    "* Decide whether Normalization/Transformation required for numerical features?\n",
    "\n",
    "#### **(ii) Feature Engineering & Feature Selection**\n",
    "\n",
    "* Bining required for any columns?\n",
    "* Is there any need to combine the rare levels of any feature?\n",
    "* Any new feture can be created & useful from existing features?\n",
    "* Feature Selction should be performed?\n",
    "* Based on dimentions of dataset, do we need PCA?\n",
    "* Multicollinearity is present or not, what should be the threshold to handle multicollinearity ?"
   ]
  },
  {
   "cell_type": "code",
   "execution_count": 4,
   "metadata": {},
   "outputs": [
    {
     "name": "stdout",
     "output_type": "stream",
     "text": [
      "<class 'pandas.core.frame.DataFrame'>\n",
      "Int64Index: 10695 entries, 0 to 2626\n",
      "Data columns (total 11 columns):\n",
      " #   Column           Non-Null Count  Dtype  \n",
      "---  ------           --------------  -----  \n",
      " 0   ID               10695 non-null  int64  \n",
      " 1   Gender           10695 non-null  object \n",
      " 2   Ever_Married     10505 non-null  object \n",
      " 3   Age              10695 non-null  int64  \n",
      " 4   Graduated        10593 non-null  object \n",
      " 5   Profession       10533 non-null  object \n",
      " 6   Work_Experience  9597 non-null   float64\n",
      " 7   Spending_Score   10695 non-null  object \n",
      " 8   Family_Size      10247 non-null  float64\n",
      " 9   Var_1            10587 non-null  object \n",
      " 10  Segmentation     10695 non-null  object \n",
      "dtypes: float64(2), int64(2), object(7)\n",
      "memory usage: 1002.7+ KB\n",
      "None\n"
     ]
    }
   ],
   "source": [
    "#data shape, column wise datatype & memory usage\n",
    "print(df.info())"
   ]
  },
  {
   "cell_type": "code",
   "execution_count": 5,
   "metadata": {},
   "outputs": [
    {
     "name": "stdout",
     "output_type": "stream",
     "text": [
      "       ID  Gender Ever_Married  Age Graduated     Profession  Work_Experience  \\\n",
      "0  462809    Male           No   22        No     Healthcare              1.0   \n",
      "1  462643  Female          Yes   38       Yes       Engineer              NaN   \n",
      "2  466315  Female          Yes   67       Yes       Engineer              1.0   \n",
      "3  461735    Male          Yes   67       Yes         Lawyer              0.0   \n",
      "4  462669  Female          Yes   40       Yes  Entertainment              NaN   \n",
      "\n",
      "  Spending_Score  Family_Size  Var_1 Segmentation  \n",
      "0            Low          4.0  Cat_4            D  \n",
      "1        Average          3.0  Cat_4            A  \n",
      "2            Low          1.0  Cat_6            B  \n",
      "3           High          2.0  Cat_6            B  \n",
      "4           High          6.0  Cat_6            A  \n"
     ]
    }
   ],
   "source": [
    "#let check how the data looks\n",
    "print(df.head())"
   ]
  },
  {
   "cell_type": "code",
   "execution_count": 6,
   "metadata": {},
   "outputs": [
    {
     "name": "stdout",
     "output_type": "stream",
     "text": [
      "Column wise missing values percentage\n"
     ]
    },
    {
     "data": {
      "text/plain": [
       "ID                  0.00\n",
       "Gender              0.00\n",
       "Ever_Married        1.78\n",
       "Age                 0.00\n",
       "Graduated           0.95\n",
       "Profession          1.51\n",
       "Work_Experience    10.27\n",
       "Spending_Score      0.00\n",
       "Family_Size         4.19\n",
       "Var_1               1.01\n",
       "Segmentation        0.00\n",
       "dtype: float64"
      ]
     },
     "execution_count": 6,
     "metadata": {},
     "output_type": "execute_result"
    }
   ],
   "source": [
    "print(\"Column wise missing values percentage\")\n",
    "round((df.isnull().sum()/df.shape[0])*100,2)"
   ]
  },
  {
   "cell_type": "code",
   "execution_count": 7,
   "metadata": {},
   "outputs": [
    {
     "name": "stdout",
     "output_type": "stream",
     "text": [
      "Numerical Data \n",
      "                   ID           Age  Work_Experience   Family_Size\n",
      "count   10695.000000  10695.000000      9597.000000  10247.000000\n",
      "mean   463468.088640     43.511828         2.619777      2.844052\n",
      "std      2600.966411     16.774158         3.390790      1.536427\n",
      "min    458982.000000     18.000000         0.000000      1.000000\n",
      "25%    461220.500000     30.000000         0.000000      2.000000\n",
      "50%    463451.000000     41.000000         1.000000      3.000000\n",
      "75%    465733.500000     53.000000         4.000000      4.000000\n",
      "max    467974.000000     89.000000        14.000000      9.000000\n",
      "\n",
      "\n",
      "Categorical Data \n",
      "        Gender Ever_Married Graduated Profession Spending_Score  Var_1  \\\n",
      "count   10695        10505     10593      10533          10695  10587   \n",
      "unique      2            2         2          9              3      7   \n",
      "top      Male          Yes       Yes     Artist            Low  Cat_6   \n",
      "freq     5841         6163      6570       3318           6494   6910   \n",
      "\n",
      "       Segmentation  \n",
      "count         10695  \n",
      "unique            4  \n",
      "top               D  \n",
      "freq           3027  \n"
     ]
    }
   ],
   "source": [
    "print(\"Numerical Data \\n\",df.describe())\n",
    "print(\"\\n\\nCategorical Data \\n\",df.describe(include = 'object'))"
   ]
  },
  {
   "cell_type": "markdown",
   "metadata": {},
   "source": [
    "Lets understand the distribution of the individual numerical features to decide the appropriate imputation technique."
   ]
  },
  {
   "cell_type": "code",
   "execution_count": 8,
   "metadata": {},
   "outputs": [
    {
     "data": {
      "text/plain": [
       "<AxesSubplot:>"
      ]
     },
     "execution_count": 8,
     "metadata": {},
     "output_type": "execute_result"
    },
    {
     "data": {
      "image/png": "[encoded data removed]",
      "text/plain": [
       "<Figure size 432x288 with 1 Axes>"
      ]
     },
     "metadata": {
      "needs_background": "light"
     },
     "output_type": "display_data"
    }
   ],
   "source": [
    "train['Work_Experience'].hist()"
   ]
  },
  {
   "cell_type": "code",
   "execution_count": 9,
   "metadata": {},
   "outputs": [
    {
     "data": {
      "text/plain": [
       "<AxesSubplot:>"
      ]
     },
     "execution_count": 9,
     "metadata": {},
     "output_type": "execute_result"
    },
    {
     "data": {
      "image/png": "[encoded data removed]",
      "text/plain": [
       "<Figure size 432x288 with 1 Axes>"
      ]
     },
     "metadata": {
      "needs_background": "light"
     },
     "output_type": "display_data"
    }
   ],
   "source": [
    "train['Family_Size'].hist()"
   ]
  },
  {
   "cell_type": "code",
   "execution_count": 10,
   "metadata": {},
   "outputs": [
    {
     "data": {
      "text/plain": [
       "<AxesSubplot:>"
      ]
     },
     "execution_count": 10,
     "metadata": {},
     "output_type": "execute_result"
    },
    {
     "data": {
      "image/png": "[encoded data removed]",
      "text/plain": [
       "<Figure size 432x288 with 1 Axes>"
      ]
     },
     "metadata": {
      "needs_background": "light"
     },
     "output_type": "display_data"
    }
   ],
   "source": [
    "train['Age'].hist()"
   ]
  },
  {
   "cell_type": "code",
   "execution_count": 11,
   "metadata": {},
   "outputs": [
    {
     "data": {
      "text/plain": [
       "<AxesSubplot:xlabel='Segmentation'>"
      ]
     },
     "execution_count": 11,
     "metadata": {},
     "output_type": "execute_result"
    },
    {
     "data": {
      "image/png": "[encoded data removed]",
      "text/plain": [
       "<Figure size 432x288 with 1 Axes>"
      ]
     },
     "metadata": {
      "needs_background": "light"
     },
     "output_type": "display_data"
    }
   ],
   "source": [
    "#Check if the data is balanced or imbalanced\n",
    "Segmentation_Data = df.groupby(by='Segmentation').size()\n",
    "\n",
    "Segmentation_Data.plot.bar()"
   ]
  },
  {
   "cell_type": "code",
   "execution_count": 12,
   "metadata": {},
   "outputs": [
    {
     "data": {
      "text/plain": [
       "['Gender',\n",
       " 'Ever_Married',\n",
       " 'Graduated',\n",
       " 'Profession',\n",
       " 'Spending_Score',\n",
       " 'Var_1']"
      ]
     },
     "execution_count": 12,
     "metadata": {},
     "output_type": "execute_result"
    }
   ],
   "source": [
    "#list of categorical columns\n",
    "cat_cols = []\n",
    "for i in df.columns:\n",
    "    if df[i].dtype == \"object\":\n",
    "        cat_cols.append(i)   \n",
    "cat_cols.remove(\"Segmentation\")  # excluding Taget Column\n",
    "cat_cols"
   ]
  },
  {
   "cell_type": "code",
   "execution_count": 13,
   "metadata": {},
   "outputs": [
    {
     "data": {
      "text/plain": [
       "['Work_Experience', 'Family_Size']"
      ]
     },
     "execution_count": 13,
     "metadata": {},
     "output_type": "execute_result"
    }
   ],
   "source": [
    "#list of numerial columns\n",
    "num_cols = []\n",
    "for i in df.columns:\n",
    "    if df[i].dtype != \"object\":\n",
    "        num_cols.append(i)   \n",
    "num_cols.remove(\"Age\")\n",
    "num_cols.remove(\"ID\")\n",
    "num_cols"
   ]
  },
  {
   "cell_type": "code",
   "execution_count": 14,
   "metadata": {},
   "outputs": [
    {
     "data": {
      "image/png": "[encoded data removed]",
      "text/plain": [
       "<Figure size 432x288 with 1 Axes>"
      ]
     },
     "metadata": {
      "needs_background": "light"
     },
     "output_type": "display_data"
    }
   ],
   "source": [
    "#plot the bar graph of percentage of \"Gender\"\n",
    "df.Gender.value_counts(normalize=True).plot.barh()\n",
    "plt.show()"
   ]
  },
  {
   "cell_type": "code",
   "execution_count": 15,
   "metadata": {},
   "outputs": [
    {
     "data": {
      "image/png": "[encoded data removed]",
      "text/plain": [
       "<Figure size 432x288 with 1 Axes>"
      ]
     },
     "metadata": {
      "needs_background": "light"
     },
     "output_type": "display_data"
    }
   ],
   "source": [
    "#plot the bar graph of percentage of \"Ever_Married\"\n",
    "df.Ever_Married.value_counts(normalize=True).plot.barh()\n",
    "plt.show()"
   ]
  },
  {
   "cell_type": "code",
   "execution_count": 16,
   "metadata": {},
   "outputs": [
    {
     "data": {
      "image/png": "[encoded data removed]",
      "text/plain": [
       "<Figure size 432x288 with 1 Axes>"
      ]
     },
     "metadata": {
      "needs_background": "light"
     },
     "output_type": "display_data"
    }
   ],
   "source": [
    "#plot the bar graph of percentage og \"Graduated\"\n",
    "df.Graduated.value_counts(normalize=True).plot.barh()\n",
    "plt.show()"
   ]
  },
  {
   "cell_type": "code",
   "execution_count": 17,
   "metadata": {},
   "outputs": [
    {
     "data": {
      "image/png": "[encoded data removed]",
      "text/plain": [
       "<Figure size 432x288 with 1 Axes>"
      ]
     },
     "metadata": {
      "needs_background": "light"
     },
     "output_type": "display_data"
    }
   ],
   "source": [
    "#plot the bar graph of percentage og \"Profession\"\n",
    "df.Profession.value_counts(normalize=True).plot.barh()\n",
    "plt.show()"
   ]
  },
  {
   "cell_type": "code",
   "execution_count": 18,
   "metadata": {},
   "outputs": [
    {
     "data": {
      "image/png": "[encoded data removed]",
      "text/plain": [
       "<Figure size 432x288 with 1 Axes>"
      ]
     },
     "metadata": {
      "needs_background": "light"
     },
     "output_type": "display_data"
    }
   ],
   "source": [
    "#plot the bar graph of percentage og \"Spending_Score\"\n",
    "df.Spending_Score.value_counts(normalize=True).plot.barh()\n",
    "plt.show()"
   ]
  },
  {
   "cell_type": "code",
   "execution_count": 19,
   "metadata": {},
   "outputs": [
    {
     "data": {
      "image/png": "[encoded data removed]",
      "text/plain": [
       "<Figure size 432x288 with 1 Axes>"
      ]
     },
     "metadata": {
      "needs_background": "light"
     },
     "output_type": "display_data"
    }
   ],
   "source": [
    "#plot the bar graph of percentage og \"Var_1\"\n",
    "df.Var_1.value_counts(normalize=True).plot.barh()\n",
    "plt.show()"
   ]
  },
  {
   "cell_type": "code",
   "execution_count": 20,
   "metadata": {},
   "outputs": [],
   "source": [
    "# sample 5% of data to be used as unseen data\n",
    "data = df.sample(frac=0.95, random_state= 50)\n",
    "data_unseen = df.drop(data.index)\n",
    "data.reset_index(inplace=True, drop=True)\n",
    "data_unseen.reset_index(inplace=True, drop=True)"
   ]
  },
  {
   "cell_type": "code",
   "execution_count": 21,
   "metadata": {},
   "outputs": [
    {
     "name": "stdout",
     "output_type": "stream",
     "text": [
      "Shape of data for training the model:  (10160, 11)\n",
      "Shape of unseen data:  (283, 11)\n"
     ]
    }
   ],
   "source": [
    "print(\"Shape of data for training the model: \",data.shape)\n",
    "print(\"Shape of unseen data: \",data_unseen.shape)"
   ]
  },
  {
   "cell_type": "markdown",
   "metadata": {},
   "source": [
    "### **Inferences & Parameters:**"
   ]
  },
  {
   "cell_type": "markdown",
   "metadata": {},
   "source": [
    "\n",
    "We can have following inferences after exploring data & accordingly we can pass the corresponsing parameters to setup() of pycaret:\n",
    "1. Column-wise data understanding\n",
    "    * ID (This column do not contribute much value to our analysis, it should not be considered for training)\n",
    "    * Work_Experience (Numerical)\n",
    "    * Family_Size (Numerical)\n",
    "    * Age (This column has a wide range of values & it is a numerical column that should be binned)\n",
    "    * Spending_Score (Ordinal Data)\n",
    "    * Gender (Nominal Data)\n",
    "    * Ever_Married (Nominal Data)\n",
    "    * Graduated (Nominal Data)\n",
    "    * Profession (Nominal Data)\n",
    "    * Var_1 (Nominal Data)\n",
    "    * Segmentation (This is \"Taget\" Column for Classification)\n",
    "\n",
    "\n",
    "        - *ignore_features=['ID']*\n",
    "        - *numeric_features = num_cols*\n",
    "        - *categorical_features = cat_cols*\n",
    "        - *target = 'Segmentation'*\n",
    "        - *bin_numeric_features = ['Age']*\n",
    "        - *ordinal_features = {'Spending_Score' : ['low', 'medium', 'high']}*\n",
    "        \n",
    "    \n",
    "2. As the missing value % for all the categorical values is 1% or less so we can replace null values with \"NA\" for all the categorical Columns\n",
    "3. As we can see the distribution for numerical columns (Work_Experience & Family_Size) is not normal/gaussian & is skewed,so \"Median\" value will be suitable to replace the missing values & log transformation of the features are required instead of normalization.\n",
    "\n",
    "        - *imputation_type = 'simple'* \n",
    "        - *categorical_imputation = 'NA'* Remove rows till 5% data loss is ok ..\n",
    "        - *numeric_imputation = 'median'*\n",
    "        - *transformation=True*\n",
    "\n",
    "4. \"Profession\" & \"Var_1\" features have high cardinality & the occurances for few subcategories is <10%, so we will combine the subcategories/(levels) that have occurance less than 8%.\n",
    "\n",
    "         - *combine_rare_levels = True*\n",
    "         - *rare_level_threshold = 0.08* \n",
    "         \n",
    "5. The dataset is not imbalaced  around the Target labels.\n",
    "6. No potential ouliers identified.\n",
    "\n",
    "         - *fix_imbalance = False*\n",
    "         - *remove_outliers = True*\n",
    "\n",
    "7. Feature selection is not required as we have very few features.\n",
    "8. Multicollinearity should be address if any.\n",
    "remove_multicollinearity = True, multicollinearity_threshold = 0.3\n",
    "7. Other parameter: \n",
    "    \n",
    "        - *data = data*\n",
    "        - *train_size = 0.8*\n",
    "        - *preprocess = True*"
   ]
  },
  {
   "cell_type": "markdown",
   "metadata": {},
   "source": [
    "### **Initialize setup using parameters**"
   ]
  },
  {
   "cell_type": "code",
   "execution_count": 22,
   "metadata": {},
   "outputs": [
    {
     "data": {
      "text/html": [
       "<style  type=\"text/css\" >\n",
       "#T_6c69a218_00a8_11ee_99ba_842afdcc3e14row5_col1,#T_6c69a218_00a8_11ee_99ba_842afdcc3e14row8_col1,#T_6c69a218_00a8_11ee_99ba_842afdcc3e14row31_col1,#T_6c69a218_00a8_11ee_99ba_842afdcc3e14row37_col1,#T_6c69a218_00a8_11ee_99ba_842afdcc3e14row39_col1,#T_6c69a218_00a8_11ee_99ba_842afdcc3e14row40_col1,#T_6c69a218_00a8_11ee_99ba_842afdcc3e14row42_col1,#T_6c69a218_00a8_11ee_99ba_842afdcc3e14row44_col1{\n",
       "            background-color:  lightgreen;\n",
       "        }</style><table id=\"T_6c69a218_00a8_11ee_99ba_842afdcc3e14\" ><thead>    <tr>        <th class=\"blank level0\" ></th>        <th class=\"col_heading level0 col0\" >Description</th>        <th class=\"col_heading level0 col1\" >Value</th>    </tr></thead><tbody>\n",
       "                <tr>\n",
       "                        <th id=\"T_6c69a218_00a8_11ee_99ba_842afdcc3e14level0_row0\" class=\"row_heading level0 row0\" >0</th>\n",
       "                        <td id=\"T_6c69a218_00a8_11ee_99ba_842afdcc3e14row0_col0\" class=\"data row0 col0\" >session_id</td>\n",
       "                        <td id=\"T_6c69a218_00a8_11ee_99ba_842afdcc3e14row0_col1\" class=\"data row0 col1\" >123</td>\n",
       "            </tr>\n",
       "            <tr>\n",
       "                        <th id=\"T_6c69a218_00a8_11ee_99ba_842afdcc3e14level0_row1\" class=\"row_heading level0 row1\" >1</th>\n",
       "                        <td id=\"T_6c69a218_00a8_11ee_99ba_842afdcc3e14row1_col0\" class=\"data row1 col0\" >Target</td>\n",
       "                        <td id=\"T_6c69a218_00a8_11ee_99ba_842afdcc3e14row1_col1\" class=\"data row1 col1\" >Segmentation</td>\n",
       "            </tr>\n",
       "            <tr>\n",
       "                        <th id=\"T_6c69a218_00a8_11ee_99ba_842afdcc3e14level0_row2\" class=\"row_heading level0 row2\" >2</th>\n",
       "                        <td id=\"T_6c69a218_00a8_11ee_99ba_842afdcc3e14row2_col0\" class=\"data row2 col0\" >Target Type</td>\n",
       "                        <td id=\"T_6c69a218_00a8_11ee_99ba_842afdcc3e14row2_col1\" class=\"data row2 col1\" >Multiclass</td>\n",
       "            </tr>\n",
       "            <tr>\n",
       "                        <th id=\"T_6c69a218_00a8_11ee_99ba_842afdcc3e14level0_row3\" class=\"row_heading level0 row3\" >3</th>\n",
       "                        <td id=\"T_6c69a218_00a8_11ee_99ba_842afdcc3e14row3_col0\" class=\"data row3 col0\" >Label Encoded</td>\n",
       "                        <td id=\"T_6c69a218_00a8_11ee_99ba_842afdcc3e14row3_col1\" class=\"data row3 col1\" >A: 0, B: 1, C: 2, D: 3</td>\n",
       "            </tr>\n",
       "            <tr>\n",
       "                        <th id=\"T_6c69a218_00a8_11ee_99ba_842afdcc3e14level0_row4\" class=\"row_heading level0 row4\" >4</th>\n",
       "                        <td id=\"T_6c69a218_00a8_11ee_99ba_842afdcc3e14row4_col0\" class=\"data row4 col0\" >Original Data</td>\n",
       "                        <td id=\"T_6c69a218_00a8_11ee_99ba_842afdcc3e14row4_col1\" class=\"data row4 col1\" >(10160, 11)</td>\n",
       "            </tr>\n",
       "            <tr>\n",
       "                        <th id=\"T_6c69a218_00a8_11ee_99ba_842afdcc3e14level0_row5\" class=\"row_heading level0 row5\" >5</th>\n",
       "                        <td id=\"T_6c69a218_00a8_11ee_99ba_842afdcc3e14row5_col0\" class=\"data row5 col0\" >Missing Values</td>\n",
       "                        <td id=\"T_6c69a218_00a8_11ee_99ba_842afdcc3e14row5_col1\" class=\"data row5 col1\" >True</td>\n",
       "            </tr>\n",
       "            <tr>\n",
       "                        <th id=\"T_6c69a218_00a8_11ee_99ba_842afdcc3e14level0_row6\" class=\"row_heading level0 row6\" >6</th>\n",
       "                        <td id=\"T_6c69a218_00a8_11ee_99ba_842afdcc3e14row6_col0\" class=\"data row6 col0\" >Numeric Features</td>\n",
       "                        <td id=\"T_6c69a218_00a8_11ee_99ba_842afdcc3e14row6_col1\" class=\"data row6 col1\" >3</td>\n",
       "            </tr>\n",
       "            <tr>\n",
       "                        <th id=\"T_6c69a218_00a8_11ee_99ba_842afdcc3e14level0_row7\" class=\"row_heading level0 row7\" >7</th>\n",
       "                        <td id=\"T_6c69a218_00a8_11ee_99ba_842afdcc3e14row7_col0\" class=\"data row7 col0\" >Categorical Features</td>\n",
       "                        <td id=\"T_6c69a218_00a8_11ee_99ba_842afdcc3e14row7_col1\" class=\"data row7 col1\" >6</td>\n",
       "            </tr>\n",
       "            <tr>\n",
       "                        <th id=\"T_6c69a218_00a8_11ee_99ba_842afdcc3e14level0_row8\" class=\"row_heading level0 row8\" >8</th>\n",
       "                        <td id=\"T_6c69a218_00a8_11ee_99ba_842afdcc3e14row8_col0\" class=\"data row8 col0\" >Ordinal Features</td>\n",
       "                        <td id=\"T_6c69a218_00a8_11ee_99ba_842afdcc3e14row8_col1\" class=\"data row8 col1\" >True</td>\n",
       "            </tr>\n",
       "            <tr>\n",
       "                        <th id=\"T_6c69a218_00a8_11ee_99ba_842afdcc3e14level0_row9\" class=\"row_heading level0 row9\" >9</th>\n",
       "                        <td id=\"T_6c69a218_00a8_11ee_99ba_842afdcc3e14row9_col0\" class=\"data row9 col0\" >High Cardinality Features</td>\n",
       "                        <td id=\"T_6c69a218_00a8_11ee_99ba_842afdcc3e14row9_col1\" class=\"data row9 col1\" >False</td>\n",
       "            </tr>\n",
       "            <tr>\n",
       "                        <th id=\"T_6c69a218_00a8_11ee_99ba_842afdcc3e14level0_row10\" class=\"row_heading level0 row10\" >10</th>\n",
       "                        <td id=\"T_6c69a218_00a8_11ee_99ba_842afdcc3e14row10_col0\" class=\"data row10 col0\" >High Cardinality Method</td>\n",
       "                        <td id=\"T_6c69a218_00a8_11ee_99ba_842afdcc3e14row10_col1\" class=\"data row10 col1\" >None</td>\n",
       "            </tr>\n",
       "            <tr>\n",
       "                        <th id=\"T_6c69a218_00a8_11ee_99ba_842afdcc3e14level0_row11\" class=\"row_heading level0 row11\" >11</th>\n",
       "                        <td id=\"T_6c69a218_00a8_11ee_99ba_842afdcc3e14row11_col0\" class=\"data row11 col0\" >Transformed Train Set</td>\n",
       "                        <td id=\"T_6c69a218_00a8_11ee_99ba_842afdcc3e14row11_col1\" class=\"data row11 col1\" >(7721, 37)</td>\n",
       "            </tr>\n",
       "            <tr>\n",
       "                        <th id=\"T_6c69a218_00a8_11ee_99ba_842afdcc3e14level0_row12\" class=\"row_heading level0 row12\" >12</th>\n",
       "                        <td id=\"T_6c69a218_00a8_11ee_99ba_842afdcc3e14row12_col0\" class=\"data row12 col0\" >Transformed Test Set</td>\n",
       "                        <td id=\"T_6c69a218_00a8_11ee_99ba_842afdcc3e14row12_col1\" class=\"data row12 col1\" >(2032, 37)</td>\n",
       "            </tr>\n",
       "            <tr>\n",
       "                        <th id=\"T_6c69a218_00a8_11ee_99ba_842afdcc3e14level0_row13\" class=\"row_heading level0 row13\" >13</th>\n",
       "                        <td id=\"T_6c69a218_00a8_11ee_99ba_842afdcc3e14row13_col0\" class=\"data row13 col0\" >Shuffle Train-Test</td>\n",
       "                        <td id=\"T_6c69a218_00a8_11ee_99ba_842afdcc3e14row13_col1\" class=\"data row13 col1\" >True</td>\n",
       "            </tr>\n",
       "            <tr>\n",
       "                        <th id=\"T_6c69a218_00a8_11ee_99ba_842afdcc3e14level0_row14\" class=\"row_heading level0 row14\" >14</th>\n",
       "                        <td id=\"T_6c69a218_00a8_11ee_99ba_842afdcc3e14row14_col0\" class=\"data row14 col0\" >Stratify Train-Test</td>\n",
       "                        <td id=\"T_6c69a218_00a8_11ee_99ba_842afdcc3e14row14_col1\" class=\"data row14 col1\" >False</td>\n",
       "            </tr>\n",
       "            <tr>\n",
       "                        <th id=\"T_6c69a218_00a8_11ee_99ba_842afdcc3e14level0_row15\" class=\"row_heading level0 row15\" >15</th>\n",
       "                        <td id=\"T_6c69a218_00a8_11ee_99ba_842afdcc3e14row15_col0\" class=\"data row15 col0\" >Fold Generator</td>\n",
       "                        <td id=\"T_6c69a218_00a8_11ee_99ba_842afdcc3e14row15_col1\" class=\"data row15 col1\" >StratifiedKFold</td>\n",
       "            </tr>\n",
       "            <tr>\n",
       "                        <th id=\"T_6c69a218_00a8_11ee_99ba_842afdcc3e14level0_row16\" class=\"row_heading level0 row16\" >16</th>\n",
       "                        <td id=\"T_6c69a218_00a8_11ee_99ba_842afdcc3e14row16_col0\" class=\"data row16 col0\" >Fold Number</td>\n",
       "                        <td id=\"T_6c69a218_00a8_11ee_99ba_842afdcc3e14row16_col1\" class=\"data row16 col1\" >10</td>\n",
       "            </tr>\n",
       "            <tr>\n",
       "                        <th id=\"T_6c69a218_00a8_11ee_99ba_842afdcc3e14level0_row17\" class=\"row_heading level0 row17\" >17</th>\n",
       "                        <td id=\"T_6c69a218_00a8_11ee_99ba_842afdcc3e14row17_col0\" class=\"data row17 col0\" >CPU Jobs</td>\n",
       "                        <td id=\"T_6c69a218_00a8_11ee_99ba_842afdcc3e14row17_col1\" class=\"data row17 col1\" >-1</td>\n",
       "            </tr>\n",
       "            <tr>\n",
       "                        <th id=\"T_6c69a218_00a8_11ee_99ba_842afdcc3e14level0_row18\" class=\"row_heading level0 row18\" >18</th>\n",
       "                        <td id=\"T_6c69a218_00a8_11ee_99ba_842afdcc3e14row18_col0\" class=\"data row18 col0\" >Use GPU</td>\n",
       "                        <td id=\"T_6c69a218_00a8_11ee_99ba_842afdcc3e14row18_col1\" class=\"data row18 col1\" >False</td>\n",
       "            </tr>\n",
       "            <tr>\n",
       "                        <th id=\"T_6c69a218_00a8_11ee_99ba_842afdcc3e14level0_row19\" class=\"row_heading level0 row19\" >19</th>\n",
       "                        <td id=\"T_6c69a218_00a8_11ee_99ba_842afdcc3e14row19_col0\" class=\"data row19 col0\" >Log Experiment</td>\n",
       "                        <td id=\"T_6c69a218_00a8_11ee_99ba_842afdcc3e14row19_col1\" class=\"data row19 col1\" >False</td>\n",
       "            </tr>\n",
       "            <tr>\n",
       "                        <th id=\"T_6c69a218_00a8_11ee_99ba_842afdcc3e14level0_row20\" class=\"row_heading level0 row20\" >20</th>\n",
       "                        <td id=\"T_6c69a218_00a8_11ee_99ba_842afdcc3e14row20_col0\" class=\"data row20 col0\" >Experiment Name</td>\n",
       "                        <td id=\"T_6c69a218_00a8_11ee_99ba_842afdcc3e14row20_col1\" class=\"data row20 col1\" >clf-default-name</td>\n",
       "            </tr>\n",
       "            <tr>\n",
       "                        <th id=\"T_6c69a218_00a8_11ee_99ba_842afdcc3e14level0_row21\" class=\"row_heading level0 row21\" >21</th>\n",
       "                        <td id=\"T_6c69a218_00a8_11ee_99ba_842afdcc3e14row21_col0\" class=\"data row21 col0\" >USI</td>\n",
       "                        <td id=\"T_6c69a218_00a8_11ee_99ba_842afdcc3e14row21_col1\" class=\"data row21 col1\" >a727</td>\n",
       "            </tr>\n",
       "            <tr>\n",
       "                        <th id=\"T_6c69a218_00a8_11ee_99ba_842afdcc3e14level0_row22\" class=\"row_heading level0 row22\" >22</th>\n",
       "                        <td id=\"T_6c69a218_00a8_11ee_99ba_842afdcc3e14row22_col0\" class=\"data row22 col0\" >Imputation Type</td>\n",
       "                        <td id=\"T_6c69a218_00a8_11ee_99ba_842afdcc3e14row22_col1\" class=\"data row22 col1\" >simple</td>\n",
       "            </tr>\n",
       "            <tr>\n",
       "                        <th id=\"T_6c69a218_00a8_11ee_99ba_842afdcc3e14level0_row23\" class=\"row_heading level0 row23\" >23</th>\n",
       "                        <td id=\"T_6c69a218_00a8_11ee_99ba_842afdcc3e14row23_col0\" class=\"data row23 col0\" >Iterative Imputation Iteration</td>\n",
       "                        <td id=\"T_6c69a218_00a8_11ee_99ba_842afdcc3e14row23_col1\" class=\"data row23 col1\" >None</td>\n",
       "            </tr>\n",
       "            <tr>\n",
       "                        <th id=\"T_6c69a218_00a8_11ee_99ba_842afdcc3e14level0_row24\" class=\"row_heading level0 row24\" >24</th>\n",
       "                        <td id=\"T_6c69a218_00a8_11ee_99ba_842afdcc3e14row24_col0\" class=\"data row24 col0\" >Numeric Imputer</td>\n",
       "                        <td id=\"T_6c69a218_00a8_11ee_99ba_842afdcc3e14row24_col1\" class=\"data row24 col1\" >median</td>\n",
       "            </tr>\n",
       "            <tr>\n",
       "                        <th id=\"T_6c69a218_00a8_11ee_99ba_842afdcc3e14level0_row25\" class=\"row_heading level0 row25\" >25</th>\n",
       "                        <td id=\"T_6c69a218_00a8_11ee_99ba_842afdcc3e14row25_col0\" class=\"data row25 col0\" >Iterative Imputation Numeric Model</td>\n",
       "                        <td id=\"T_6c69a218_00a8_11ee_99ba_842afdcc3e14row25_col1\" class=\"data row25 col1\" >None</td>\n",
       "            </tr>\n",
       "            <tr>\n",
       "                        <th id=\"T_6c69a218_00a8_11ee_99ba_842afdcc3e14level0_row26\" class=\"row_heading level0 row26\" >26</th>\n",
       "                        <td id=\"T_6c69a218_00a8_11ee_99ba_842afdcc3e14row26_col0\" class=\"data row26 col0\" >Categorical Imputer</td>\n",
       "                        <td id=\"T_6c69a218_00a8_11ee_99ba_842afdcc3e14row26_col1\" class=\"data row26 col1\" >constant</td>\n",
       "            </tr>\n",
       "            <tr>\n",
       "                        <th id=\"T_6c69a218_00a8_11ee_99ba_842afdcc3e14level0_row27\" class=\"row_heading level0 row27\" >27</th>\n",
       "                        <td id=\"T_6c69a218_00a8_11ee_99ba_842afdcc3e14row27_col0\" class=\"data row27 col0\" >Iterative Imputation Categorical Model</td>\n",
       "                        <td id=\"T_6c69a218_00a8_11ee_99ba_842afdcc3e14row27_col1\" class=\"data row27 col1\" >None</td>\n",
       "            </tr>\n",
       "            <tr>\n",
       "                        <th id=\"T_6c69a218_00a8_11ee_99ba_842afdcc3e14level0_row28\" class=\"row_heading level0 row28\" >28</th>\n",
       "                        <td id=\"T_6c69a218_00a8_11ee_99ba_842afdcc3e14row28_col0\" class=\"data row28 col0\" >Unknown Categoricals Handling</td>\n",
       "                        <td id=\"T_6c69a218_00a8_11ee_99ba_842afdcc3e14row28_col1\" class=\"data row28 col1\" >least_frequent</td>\n",
       "            </tr>\n",
       "            <tr>\n",
       "                        <th id=\"T_6c69a218_00a8_11ee_99ba_842afdcc3e14level0_row29\" class=\"row_heading level0 row29\" >29</th>\n",
       "                        <td id=\"T_6c69a218_00a8_11ee_99ba_842afdcc3e14row29_col0\" class=\"data row29 col0\" >Normalize</td>\n",
       "                        <td id=\"T_6c69a218_00a8_11ee_99ba_842afdcc3e14row29_col1\" class=\"data row29 col1\" >False</td>\n",
       "            </tr>\n",
       "            <tr>\n",
       "                        <th id=\"T_6c69a218_00a8_11ee_99ba_842afdcc3e14level0_row30\" class=\"row_heading level0 row30\" >30</th>\n",
       "                        <td id=\"T_6c69a218_00a8_11ee_99ba_842afdcc3e14row30_col0\" class=\"data row30 col0\" >Normalize Method</td>\n",
       "                        <td id=\"T_6c69a218_00a8_11ee_99ba_842afdcc3e14row30_col1\" class=\"data row30 col1\" >None</td>\n",
       "            </tr>\n",
       "            <tr>\n",
       "                        <th id=\"T_6c69a218_00a8_11ee_99ba_842afdcc3e14level0_row31\" class=\"row_heading level0 row31\" >31</th>\n",
       "                        <td id=\"T_6c69a218_00a8_11ee_99ba_842afdcc3e14row31_col0\" class=\"data row31 col0\" >Transformation</td>\n",
       "                        <td id=\"T_6c69a218_00a8_11ee_99ba_842afdcc3e14row31_col1\" class=\"data row31 col1\" >True</td>\n",
       "            </tr>\n",
       "            <tr>\n",
       "                        <th id=\"T_6c69a218_00a8_11ee_99ba_842afdcc3e14level0_row32\" class=\"row_heading level0 row32\" >32</th>\n",
       "                        <td id=\"T_6c69a218_00a8_11ee_99ba_842afdcc3e14row32_col0\" class=\"data row32 col0\" >Transformation Method</td>\n",
       "                        <td id=\"T_6c69a218_00a8_11ee_99ba_842afdcc3e14row32_col1\" class=\"data row32 col1\" >yeo-johnson</td>\n",
       "            </tr>\n",
       "            <tr>\n",
       "                        <th id=\"T_6c69a218_00a8_11ee_99ba_842afdcc3e14level0_row33\" class=\"row_heading level0 row33\" >33</th>\n",
       "                        <td id=\"T_6c69a218_00a8_11ee_99ba_842afdcc3e14row33_col0\" class=\"data row33 col0\" >PCA</td>\n",
       "                        <td id=\"T_6c69a218_00a8_11ee_99ba_842afdcc3e14row33_col1\" class=\"data row33 col1\" >False</td>\n",
       "            </tr>\n",
       "            <tr>\n",
       "                        <th id=\"T_6c69a218_00a8_11ee_99ba_842afdcc3e14level0_row34\" class=\"row_heading level0 row34\" >34</th>\n",
       "                        <td id=\"T_6c69a218_00a8_11ee_99ba_842afdcc3e14row34_col0\" class=\"data row34 col0\" >PCA Method</td>\n",
       "                        <td id=\"T_6c69a218_00a8_11ee_99ba_842afdcc3e14row34_col1\" class=\"data row34 col1\" >None</td>\n",
       "            </tr>\n",
       "            <tr>\n",
       "                        <th id=\"T_6c69a218_00a8_11ee_99ba_842afdcc3e14level0_row35\" class=\"row_heading level0 row35\" >35</th>\n",
       "                        <td id=\"T_6c69a218_00a8_11ee_99ba_842afdcc3e14row35_col0\" class=\"data row35 col0\" >PCA Components</td>\n",
       "                        <td id=\"T_6c69a218_00a8_11ee_99ba_842afdcc3e14row35_col1\" class=\"data row35 col1\" >None</td>\n",
       "            </tr>\n",
       "            <tr>\n",
       "                        <th id=\"T_6c69a218_00a8_11ee_99ba_842afdcc3e14level0_row36\" class=\"row_heading level0 row36\" >36</th>\n",
       "                        <td id=\"T_6c69a218_00a8_11ee_99ba_842afdcc3e14row36_col0\" class=\"data row36 col0\" >Ignore Low Variance</td>\n",
       "                        <td id=\"T_6c69a218_00a8_11ee_99ba_842afdcc3e14row36_col1\" class=\"data row36 col1\" >False</td>\n",
       "            </tr>\n",
       "            <tr>\n",
       "                        <th id=\"T_6c69a218_00a8_11ee_99ba_842afdcc3e14level0_row37\" class=\"row_heading level0 row37\" >37</th>\n",
       "                        <td id=\"T_6c69a218_00a8_11ee_99ba_842afdcc3e14row37_col0\" class=\"data row37 col0\" >Combine Rare Levels</td>\n",
       "                        <td id=\"T_6c69a218_00a8_11ee_99ba_842afdcc3e14row37_col1\" class=\"data row37 col1\" >True</td>\n",
       "            </tr>\n",
       "            <tr>\n",
       "                        <th id=\"T_6c69a218_00a8_11ee_99ba_842afdcc3e14level0_row38\" class=\"row_heading level0 row38\" >38</th>\n",
       "                        <td id=\"T_6c69a218_00a8_11ee_99ba_842afdcc3e14row38_col0\" class=\"data row38 col0\" >Rare Level Threshold</td>\n",
       "                        <td id=\"T_6c69a218_00a8_11ee_99ba_842afdcc3e14row38_col1\" class=\"data row38 col1\" >0.080000</td>\n",
       "            </tr>\n",
       "            <tr>\n",
       "                        <th id=\"T_6c69a218_00a8_11ee_99ba_842afdcc3e14level0_row39\" class=\"row_heading level0 row39\" >39</th>\n",
       "                        <td id=\"T_6c69a218_00a8_11ee_99ba_842afdcc3e14row39_col0\" class=\"data row39 col0\" >Numeric Binning</td>\n",
       "                        <td id=\"T_6c69a218_00a8_11ee_99ba_842afdcc3e14row39_col1\" class=\"data row39 col1\" >True</td>\n",
       "            </tr>\n",
       "            <tr>\n",
       "                        <th id=\"T_6c69a218_00a8_11ee_99ba_842afdcc3e14level0_row40\" class=\"row_heading level0 row40\" >40</th>\n",
       "                        <td id=\"T_6c69a218_00a8_11ee_99ba_842afdcc3e14row40_col0\" class=\"data row40 col0\" >Remove Outliers</td>\n",
       "                        <td id=\"T_6c69a218_00a8_11ee_99ba_842afdcc3e14row40_col1\" class=\"data row40 col1\" >True</td>\n",
       "            </tr>\n",
       "            <tr>\n",
       "                        <th id=\"T_6c69a218_00a8_11ee_99ba_842afdcc3e14level0_row41\" class=\"row_heading level0 row41\" >41</th>\n",
       "                        <td id=\"T_6c69a218_00a8_11ee_99ba_842afdcc3e14row41_col0\" class=\"data row41 col0\" >Outliers Threshold</td>\n",
       "                        <td id=\"T_6c69a218_00a8_11ee_99ba_842afdcc3e14row41_col1\" class=\"data row41 col1\" >0.050000</td>\n",
       "            </tr>\n",
       "            <tr>\n",
       "                        <th id=\"T_6c69a218_00a8_11ee_99ba_842afdcc3e14level0_row42\" class=\"row_heading level0 row42\" >42</th>\n",
       "                        <td id=\"T_6c69a218_00a8_11ee_99ba_842afdcc3e14row42_col0\" class=\"data row42 col0\" >Remove Multicollinearity</td>\n",
       "                        <td id=\"T_6c69a218_00a8_11ee_99ba_842afdcc3e14row42_col1\" class=\"data row42 col1\" >True</td>\n",
       "            </tr>\n",
       "            <tr>\n",
       "                        <th id=\"T_6c69a218_00a8_11ee_99ba_842afdcc3e14level0_row43\" class=\"row_heading level0 row43\" >43</th>\n",
       "                        <td id=\"T_6c69a218_00a8_11ee_99ba_842afdcc3e14row43_col0\" class=\"data row43 col0\" >Multicollinearity Threshold</td>\n",
       "                        <td id=\"T_6c69a218_00a8_11ee_99ba_842afdcc3e14row43_col1\" class=\"data row43 col1\" >0.700000</td>\n",
       "            </tr>\n",
       "            <tr>\n",
       "                        <th id=\"T_6c69a218_00a8_11ee_99ba_842afdcc3e14level0_row44\" class=\"row_heading level0 row44\" >44</th>\n",
       "                        <td id=\"T_6c69a218_00a8_11ee_99ba_842afdcc3e14row44_col0\" class=\"data row44 col0\" >Remove Perfect Collinearity</td>\n",
       "                        <td id=\"T_6c69a218_00a8_11ee_99ba_842afdcc3e14row44_col1\" class=\"data row44 col1\" >True</td>\n",
       "            </tr>\n",
       "            <tr>\n",
       "                        <th id=\"T_6c69a218_00a8_11ee_99ba_842afdcc3e14level0_row45\" class=\"row_heading level0 row45\" >45</th>\n",
       "                        <td id=\"T_6c69a218_00a8_11ee_99ba_842afdcc3e14row45_col0\" class=\"data row45 col0\" >Clustering</td>\n",
       "                        <td id=\"T_6c69a218_00a8_11ee_99ba_842afdcc3e14row45_col1\" class=\"data row45 col1\" >False</td>\n",
       "            </tr>\n",
       "            <tr>\n",
       "                        <th id=\"T_6c69a218_00a8_11ee_99ba_842afdcc3e14level0_row46\" class=\"row_heading level0 row46\" >46</th>\n",
       "                        <td id=\"T_6c69a218_00a8_11ee_99ba_842afdcc3e14row46_col0\" class=\"data row46 col0\" >Clustering Iteration</td>\n",
       "                        <td id=\"T_6c69a218_00a8_11ee_99ba_842afdcc3e14row46_col1\" class=\"data row46 col1\" >None</td>\n",
       "            </tr>\n",
       "            <tr>\n",
       "                        <th id=\"T_6c69a218_00a8_11ee_99ba_842afdcc3e14level0_row47\" class=\"row_heading level0 row47\" >47</th>\n",
       "                        <td id=\"T_6c69a218_00a8_11ee_99ba_842afdcc3e14row47_col0\" class=\"data row47 col0\" >Polynomial Features</td>\n",
       "                        <td id=\"T_6c69a218_00a8_11ee_99ba_842afdcc3e14row47_col1\" class=\"data row47 col1\" >False</td>\n",
       "            </tr>\n",
       "            <tr>\n",
       "                        <th id=\"T_6c69a218_00a8_11ee_99ba_842afdcc3e14level0_row48\" class=\"row_heading level0 row48\" >48</th>\n",
       "                        <td id=\"T_6c69a218_00a8_11ee_99ba_842afdcc3e14row48_col0\" class=\"data row48 col0\" >Polynomial Degree</td>\n",
       "                        <td id=\"T_6c69a218_00a8_11ee_99ba_842afdcc3e14row48_col1\" class=\"data row48 col1\" >None</td>\n",
       "            </tr>\n",
       "            <tr>\n",
       "                        <th id=\"T_6c69a218_00a8_11ee_99ba_842afdcc3e14level0_row49\" class=\"row_heading level0 row49\" >49</th>\n",
       "                        <td id=\"T_6c69a218_00a8_11ee_99ba_842afdcc3e14row49_col0\" class=\"data row49 col0\" >Trignometry Features</td>\n",
       "                        <td id=\"T_6c69a218_00a8_11ee_99ba_842afdcc3e14row49_col1\" class=\"data row49 col1\" >False</td>\n",
       "            </tr>\n",
       "            <tr>\n",
       "                        <th id=\"T_6c69a218_00a8_11ee_99ba_842afdcc3e14level0_row50\" class=\"row_heading level0 row50\" >50</th>\n",
       "                        <td id=\"T_6c69a218_00a8_11ee_99ba_842afdcc3e14row50_col0\" class=\"data row50 col0\" >Polynomial Threshold</td>\n",
       "                        <td id=\"T_6c69a218_00a8_11ee_99ba_842afdcc3e14row50_col1\" class=\"data row50 col1\" >None</td>\n",
       "            </tr>\n",
       "            <tr>\n",
       "                        <th id=\"T_6c69a218_00a8_11ee_99ba_842afdcc3e14level0_row51\" class=\"row_heading level0 row51\" >51</th>\n",
       "                        <td id=\"T_6c69a218_00a8_11ee_99ba_842afdcc3e14row51_col0\" class=\"data row51 col0\" >Group Features</td>\n",
       "                        <td id=\"T_6c69a218_00a8_11ee_99ba_842afdcc3e14row51_col1\" class=\"data row51 col1\" >False</td>\n",
       "            </tr>\n",
       "            <tr>\n",
       "                        <th id=\"T_6c69a218_00a8_11ee_99ba_842afdcc3e14level0_row52\" class=\"row_heading level0 row52\" >52</th>\n",
       "                        <td id=\"T_6c69a218_00a8_11ee_99ba_842afdcc3e14row52_col0\" class=\"data row52 col0\" >Feature Selection</td>\n",
       "                        <td id=\"T_6c69a218_00a8_11ee_99ba_842afdcc3e14row52_col1\" class=\"data row52 col1\" >False</td>\n",
       "            </tr>\n",
       "            <tr>\n",
       "                        <th id=\"T_6c69a218_00a8_11ee_99ba_842afdcc3e14level0_row53\" class=\"row_heading level0 row53\" >53</th>\n",
       "                        <td id=\"T_6c69a218_00a8_11ee_99ba_842afdcc3e14row53_col0\" class=\"data row53 col0\" >Feature Selection Method</td>\n",
       "                        <td id=\"T_6c69a218_00a8_11ee_99ba_842afdcc3e14row53_col1\" class=\"data row53 col1\" >classic</td>\n",
       "            </tr>\n",
       "            <tr>\n",
       "                        <th id=\"T_6c69a218_00a8_11ee_99ba_842afdcc3e14level0_row54\" class=\"row_heading level0 row54\" >54</th>\n",
       "                        <td id=\"T_6c69a218_00a8_11ee_99ba_842afdcc3e14row54_col0\" class=\"data row54 col0\" >Features Selection Threshold</td>\n",
       "                        <td id=\"T_6c69a218_00a8_11ee_99ba_842afdcc3e14row54_col1\" class=\"data row54 col1\" >None</td>\n",
       "            </tr>\n",
       "            <tr>\n",
       "                        <th id=\"T_6c69a218_00a8_11ee_99ba_842afdcc3e14level0_row55\" class=\"row_heading level0 row55\" >55</th>\n",
       "                        <td id=\"T_6c69a218_00a8_11ee_99ba_842afdcc3e14row55_col0\" class=\"data row55 col0\" >Feature Interaction</td>\n",
       "                        <td id=\"T_6c69a218_00a8_11ee_99ba_842afdcc3e14row55_col1\" class=\"data row55 col1\" >False</td>\n",
       "            </tr>\n",
       "            <tr>\n",
       "                        <th id=\"T_6c69a218_00a8_11ee_99ba_842afdcc3e14level0_row56\" class=\"row_heading level0 row56\" >56</th>\n",
       "                        <td id=\"T_6c69a218_00a8_11ee_99ba_842afdcc3e14row56_col0\" class=\"data row56 col0\" >Feature Ratio</td>\n",
       "                        <td id=\"T_6c69a218_00a8_11ee_99ba_842afdcc3e14row56_col1\" class=\"data row56 col1\" >False</td>\n",
       "            </tr>\n",
       "            <tr>\n",
       "                        <th id=\"T_6c69a218_00a8_11ee_99ba_842afdcc3e14level0_row57\" class=\"row_heading level0 row57\" >57</th>\n",
       "                        <td id=\"T_6c69a218_00a8_11ee_99ba_842afdcc3e14row57_col0\" class=\"data row57 col0\" >Interaction Threshold</td>\n",
       "                        <td id=\"T_6c69a218_00a8_11ee_99ba_842afdcc3e14row57_col1\" class=\"data row57 col1\" >None</td>\n",
       "            </tr>\n",
       "            <tr>\n",
       "                        <th id=\"T_6c69a218_00a8_11ee_99ba_842afdcc3e14level0_row58\" class=\"row_heading level0 row58\" >58</th>\n",
       "                        <td id=\"T_6c69a218_00a8_11ee_99ba_842afdcc3e14row58_col0\" class=\"data row58 col0\" >Fix Imbalance</td>\n",
       "                        <td id=\"T_6c69a218_00a8_11ee_99ba_842afdcc3e14row58_col1\" class=\"data row58 col1\" >False</td>\n",
       "            </tr>\n",
       "            <tr>\n",
       "                        <th id=\"T_6c69a218_00a8_11ee_99ba_842afdcc3e14level0_row59\" class=\"row_heading level0 row59\" >59</th>\n",
       "                        <td id=\"T_6c69a218_00a8_11ee_99ba_842afdcc3e14row59_col0\" class=\"data row59 col0\" >Fix Imbalance Method</td>\n",
       "                        <td id=\"T_6c69a218_00a8_11ee_99ba_842afdcc3e14row59_col1\" class=\"data row59 col1\" >SMOTE</td>\n",
       "            </tr>\n",
       "    </tbody></table>"
      ],
      "text/plain": [
       "<pandas.io.formats.style.Styler at 0x28a7d813a20>"
      ]
     },
     "metadata": {},
     "output_type": "display_data"
    }
   ],
   "source": [
    "#based on above inferences, assign the parameter values\n",
    "from pycaret.classification import *\n",
    "s = setup(data = data, \n",
    "          target = 'Segmentation',\n",
    "          ignore_features=['ID'],\n",
    "          numeric_features = num_cols,\n",
    "          categorical_features = cat_cols,\n",
    "          bin_numeric_features = ['Age'],\n",
    "          ordinal_features = {'Spending_Score' : ['Low', 'Average', 'High']},\n",
    "          imputation_type = 'simple',\n",
    "          categorical_imputation = 'constant',\n",
    "          numeric_imputation = 'median',\n",
    "          transformation=True,\n",
    "          combine_rare_levels = True,\n",
    "          rare_level_threshold = 0.08,\n",
    "          #rare_to_value = \"Other Infrequent\",\n",
    "          fix_imbalance = False,\n",
    "          remove_outliers = True,\n",
    "          train_size = 0.8,\n",
    "          preprocess = True, \n",
    "          remove_multicollinearity = True, \n",
    "          multicollinearity_threshold = 0.7, \n",
    "          session_id=123)"
   ]
  },
  {
   "cell_type": "markdown",
   "metadata": {},
   "source": [
    "## 4) Get the BEST model"
   ]
  },
  {
   "cell_type": "code",
   "execution_count": 24,
   "metadata": {},
   "outputs": [
    {
     "data": {
      "text/html": [
       "<style  type=\"text/css\" >\n",
       "    #T_a4fdec1c_00a8_11ee_90d4_842afdcc3e14 th {\n",
       "          text-align: left;\n",
       "    }#T_a4fdec1c_00a8_11ee_90d4_842afdcc3e14row0_col0,#T_a4fdec1c_00a8_11ee_90d4_842afdcc3e14row1_col0,#T_a4fdec1c_00a8_11ee_90d4_842afdcc3e14row1_col1,#T_a4fdec1c_00a8_11ee_90d4_842afdcc3e14row1_col2,#T_a4fdec1c_00a8_11ee_90d4_842afdcc3e14row1_col3,#T_a4fdec1c_00a8_11ee_90d4_842afdcc3e14row1_col4,#T_a4fdec1c_00a8_11ee_90d4_842afdcc3e14row1_col5,#T_a4fdec1c_00a8_11ee_90d4_842afdcc3e14row1_col6,#T_a4fdec1c_00a8_11ee_90d4_842afdcc3e14row1_col7,#T_a4fdec1c_00a8_11ee_90d4_842afdcc3e14row2_col0,#T_a4fdec1c_00a8_11ee_90d4_842afdcc3e14row2_col1,#T_a4fdec1c_00a8_11ee_90d4_842afdcc3e14row2_col2,#T_a4fdec1c_00a8_11ee_90d4_842afdcc3e14row2_col3,#T_a4fdec1c_00a8_11ee_90d4_842afdcc3e14row2_col4,#T_a4fdec1c_00a8_11ee_90d4_842afdcc3e14row2_col5,#T_a4fdec1c_00a8_11ee_90d4_842afdcc3e14row2_col6,#T_a4fdec1c_00a8_11ee_90d4_842afdcc3e14row2_col7,#T_a4fdec1c_00a8_11ee_90d4_842afdcc3e14row3_col0,#T_a4fdec1c_00a8_11ee_90d4_842afdcc3e14row3_col1,#T_a4fdec1c_00a8_11ee_90d4_842afdcc3e14row3_col2,#T_a4fdec1c_00a8_11ee_90d4_842afdcc3e14row3_col3,#T_a4fdec1c_00a8_11ee_90d4_842afdcc3e14row3_col4,#T_a4fdec1c_00a8_11ee_90d4_842afdcc3e14row3_col5,#T_a4fdec1c_00a8_11ee_90d4_842afdcc3e14row3_col6,#T_a4fdec1c_00a8_11ee_90d4_842afdcc3e14row3_col7,#T_a4fdec1c_00a8_11ee_90d4_842afdcc3e14row4_col0,#T_a4fdec1c_00a8_11ee_90d4_842afdcc3e14row4_col1,#T_a4fdec1c_00a8_11ee_90d4_842afdcc3e14row4_col2,#T_a4fdec1c_00a8_11ee_90d4_842afdcc3e14row4_col3,#T_a4fdec1c_00a8_11ee_90d4_842afdcc3e14row4_col4,#T_a4fdec1c_00a8_11ee_90d4_842afdcc3e14row4_col5,#T_a4fdec1c_00a8_11ee_90d4_842afdcc3e14row4_col6,#T_a4fdec1c_00a8_11ee_90d4_842afdcc3e14row4_col7,#T_a4fdec1c_00a8_11ee_90d4_842afdcc3e14row5_col0,#T_a4fdec1c_00a8_11ee_90d4_842afdcc3e14row5_col1,#T_a4fdec1c_00a8_11ee_90d4_842afdcc3e14row5_col2,#T_a4fdec1c_00a8_11ee_90d4_842afdcc3e14row5_col3,#T_a4fdec1c_00a8_11ee_90d4_842afdcc3e14row5_col4,#T_a4fdec1c_00a8_11ee_90d4_842afdcc3e14row5_col5,#T_a4fdec1c_00a8_11ee_90d4_842afdcc3e14row5_col6,#T_a4fdec1c_00a8_11ee_90d4_842afdcc3e14row5_col7,#T_a4fdec1c_00a8_11ee_90d4_842afdcc3e14row6_col0,#T_a4fdec1c_00a8_11ee_90d4_842afdcc3e14row6_col1,#T_a4fdec1c_00a8_11ee_90d4_842afdcc3e14row6_col2,#T_a4fdec1c_00a8_11ee_90d4_842afdcc3e14row6_col3,#T_a4fdec1c_00a8_11ee_90d4_842afdcc3e14row6_col4,#T_a4fdec1c_00a8_11ee_90d4_842afdcc3e14row6_col5,#T_a4fdec1c_00a8_11ee_90d4_842afdcc3e14row6_col6,#T_a4fdec1c_00a8_11ee_90d4_842afdcc3e14row6_col7,#T_a4fdec1c_00a8_11ee_90d4_842afdcc3e14row7_col0,#T_a4fdec1c_00a8_11ee_90d4_842afdcc3e14row7_col1,#T_a4fdec1c_00a8_11ee_90d4_842afdcc3e14row7_col2,#T_a4fdec1c_00a8_11ee_90d4_842afdcc3e14row7_col3,#T_a4fdec1c_00a8_11ee_90d4_842afdcc3e14row7_col4,#T_a4fdec1c_00a8_11ee_90d4_842afdcc3e14row7_col5,#T_a4fdec1c_00a8_11ee_90d4_842afdcc3e14row7_col6,#T_a4fdec1c_00a8_11ee_90d4_842afdcc3e14row7_col7,#T_a4fdec1c_00a8_11ee_90d4_842afdcc3e14row8_col0,#T_a4fdec1c_00a8_11ee_90d4_842afdcc3e14row8_col1,#T_a4fdec1c_00a8_11ee_90d4_842afdcc3e14row8_col2,#T_a4fdec1c_00a8_11ee_90d4_842afdcc3e14row8_col3,#T_a4fdec1c_00a8_11ee_90d4_842afdcc3e14row8_col4,#T_a4fdec1c_00a8_11ee_90d4_842afdcc3e14row8_col5,#T_a4fdec1c_00a8_11ee_90d4_842afdcc3e14row8_col6,#T_a4fdec1c_00a8_11ee_90d4_842afdcc3e14row8_col7,#T_a4fdec1c_00a8_11ee_90d4_842afdcc3e14row9_col0,#T_a4fdec1c_00a8_11ee_90d4_842afdcc3e14row9_col1,#T_a4fdec1c_00a8_11ee_90d4_842afdcc3e14row9_col2,#T_a4fdec1c_00a8_11ee_90d4_842afdcc3e14row9_col3,#T_a4fdec1c_00a8_11ee_90d4_842afdcc3e14row9_col4,#T_a4fdec1c_00a8_11ee_90d4_842afdcc3e14row9_col5,#T_a4fdec1c_00a8_11ee_90d4_842afdcc3e14row9_col6,#T_a4fdec1c_00a8_11ee_90d4_842afdcc3e14row9_col7,#T_a4fdec1c_00a8_11ee_90d4_842afdcc3e14row10_col0,#T_a4fdec1c_00a8_11ee_90d4_842afdcc3e14row10_col1,#T_a4fdec1c_00a8_11ee_90d4_842afdcc3e14row10_col2,#T_a4fdec1c_00a8_11ee_90d4_842afdcc3e14row10_col3,#T_a4fdec1c_00a8_11ee_90d4_842afdcc3e14row10_col4,#T_a4fdec1c_00a8_11ee_90d4_842afdcc3e14row10_col5,#T_a4fdec1c_00a8_11ee_90d4_842afdcc3e14row10_col6,#T_a4fdec1c_00a8_11ee_90d4_842afdcc3e14row10_col7,#T_a4fdec1c_00a8_11ee_90d4_842afdcc3e14row11_col0,#T_a4fdec1c_00a8_11ee_90d4_842afdcc3e14row11_col1,#T_a4fdec1c_00a8_11ee_90d4_842afdcc3e14row11_col2,#T_a4fdec1c_00a8_11ee_90d4_842afdcc3e14row11_col3,#T_a4fdec1c_00a8_11ee_90d4_842afdcc3e14row11_col4,#T_a4fdec1c_00a8_11ee_90d4_842afdcc3e14row11_col5,#T_a4fdec1c_00a8_11ee_90d4_842afdcc3e14row11_col6,#T_a4fdec1c_00a8_11ee_90d4_842afdcc3e14row11_col7,#T_a4fdec1c_00a8_11ee_90d4_842afdcc3e14row12_col0,#T_a4fdec1c_00a8_11ee_90d4_842afdcc3e14row12_col1,#T_a4fdec1c_00a8_11ee_90d4_842afdcc3e14row12_col2,#T_a4fdec1c_00a8_11ee_90d4_842afdcc3e14row12_col3,#T_a4fdec1c_00a8_11ee_90d4_842afdcc3e14row12_col4,#T_a4fdec1c_00a8_11ee_90d4_842afdcc3e14row12_col5,#T_a4fdec1c_00a8_11ee_90d4_842afdcc3e14row12_col6,#T_a4fdec1c_00a8_11ee_90d4_842afdcc3e14row12_col7,#T_a4fdec1c_00a8_11ee_90d4_842afdcc3e14row13_col0,#T_a4fdec1c_00a8_11ee_90d4_842afdcc3e14row13_col1,#T_a4fdec1c_00a8_11ee_90d4_842afdcc3e14row13_col2,#T_a4fdec1c_00a8_11ee_90d4_842afdcc3e14row13_col3,#T_a4fdec1c_00a8_11ee_90d4_842afdcc3e14row13_col4,#T_a4fdec1c_00a8_11ee_90d4_842afdcc3e14row13_col5,#T_a4fdec1c_00a8_11ee_90d4_842afdcc3e14row13_col6,#T_a4fdec1c_00a8_11ee_90d4_842afdcc3e14row13_col7{\n",
       "            text-align:  left;\n",
       "            text-align:  left;\n",
       "        }#T_a4fdec1c_00a8_11ee_90d4_842afdcc3e14row0_col1,#T_a4fdec1c_00a8_11ee_90d4_842afdcc3e14row0_col2,#T_a4fdec1c_00a8_11ee_90d4_842afdcc3e14row0_col3,#T_a4fdec1c_00a8_11ee_90d4_842afdcc3e14row0_col4,#T_a4fdec1c_00a8_11ee_90d4_842afdcc3e14row0_col5,#T_a4fdec1c_00a8_11ee_90d4_842afdcc3e14row0_col6,#T_a4fdec1c_00a8_11ee_90d4_842afdcc3e14row0_col7{\n",
       "            text-align:  left;\n",
       "            text-align:  left;\n",
       "            background-color:  yellow;\n",
       "        }#T_a4fdec1c_00a8_11ee_90d4_842afdcc3e14row0_col8,#T_a4fdec1c_00a8_11ee_90d4_842afdcc3e14row1_col8,#T_a4fdec1c_00a8_11ee_90d4_842afdcc3e14row2_col8,#T_a4fdec1c_00a8_11ee_90d4_842afdcc3e14row3_col8,#T_a4fdec1c_00a8_11ee_90d4_842afdcc3e14row4_col8,#T_a4fdec1c_00a8_11ee_90d4_842afdcc3e14row5_col8,#T_a4fdec1c_00a8_11ee_90d4_842afdcc3e14row6_col8,#T_a4fdec1c_00a8_11ee_90d4_842afdcc3e14row7_col8,#T_a4fdec1c_00a8_11ee_90d4_842afdcc3e14row8_col8,#T_a4fdec1c_00a8_11ee_90d4_842afdcc3e14row9_col8,#T_a4fdec1c_00a8_11ee_90d4_842afdcc3e14row10_col8,#T_a4fdec1c_00a8_11ee_90d4_842afdcc3e14row12_col8,#T_a4fdec1c_00a8_11ee_90d4_842afdcc3e14row13_col8{\n",
       "            text-align:  left;\n",
       "            text-align:  left;\n",
       "            background-color:  lightgrey;\n",
       "        }#T_a4fdec1c_00a8_11ee_90d4_842afdcc3e14row11_col8{\n",
       "            text-align:  left;\n",
       "            text-align:  left;\n",
       "            background-color:  yellow;\n",
       "            background-color:  lightgrey;\n",
       "        }</style><table id=\"T_a4fdec1c_00a8_11ee_90d4_842afdcc3e14\" ><thead>    <tr>        <th class=\"blank level0\" ></th>        <th class=\"col_heading level0 col0\" >Model</th>        <th class=\"col_heading level0 col1\" >Accuracy</th>        <th class=\"col_heading level0 col2\" >AUC</th>        <th class=\"col_heading level0 col3\" >Recall</th>        <th class=\"col_heading level0 col4\" >Prec.</th>        <th class=\"col_heading level0 col5\" >F1</th>        <th class=\"col_heading level0 col6\" >Kappa</th>        <th class=\"col_heading level0 col7\" >MCC</th>        <th class=\"col_heading level0 col8\" >TT (Sec)</th>    </tr></thead><tbody>\n",
       "                <tr>\n",
       "                        <th id=\"T_a4fdec1c_00a8_11ee_90d4_842afdcc3e14level0_row0\" class=\"row_heading level0 row0\" >gbc</th>\n",
       "                        <td id=\"T_a4fdec1c_00a8_11ee_90d4_842afdcc3e14row0_col0\" class=\"data row0 col0\" >Gradient Boosting Classifier</td>\n",
       "                        <td id=\"T_a4fdec1c_00a8_11ee_90d4_842afdcc3e14row0_col1\" class=\"data row0 col1\" >0.4782</td>\n",
       "                        <td id=\"T_a4fdec1c_00a8_11ee_90d4_842afdcc3e14row0_col2\" class=\"data row0 col2\" >0.7319</td>\n",
       "                        <td id=\"T_a4fdec1c_00a8_11ee_90d4_842afdcc3e14row0_col3\" class=\"data row0 col3\" >0.4703</td>\n",
       "                        <td id=\"T_a4fdec1c_00a8_11ee_90d4_842afdcc3e14row0_col4\" class=\"data row0 col4\" >0.4710</td>\n",
       "                        <td id=\"T_a4fdec1c_00a8_11ee_90d4_842afdcc3e14row0_col5\" class=\"data row0 col5\" >0.4716</td>\n",
       "                        <td id=\"T_a4fdec1c_00a8_11ee_90d4_842afdcc3e14row0_col6\" class=\"data row0 col6\" >0.3004</td>\n",
       "                        <td id=\"T_a4fdec1c_00a8_11ee_90d4_842afdcc3e14row0_col7\" class=\"data row0 col7\" >0.3018</td>\n",
       "                        <td id=\"T_a4fdec1c_00a8_11ee_90d4_842afdcc3e14row0_col8\" class=\"data row0 col8\" >0.7310</td>\n",
       "            </tr>\n",
       "            <tr>\n",
       "                        <th id=\"T_a4fdec1c_00a8_11ee_90d4_842afdcc3e14level0_row1\" class=\"row_heading level0 row1\" >lightgbm</th>\n",
       "                        <td id=\"T_a4fdec1c_00a8_11ee_90d4_842afdcc3e14row1_col0\" class=\"data row1 col0\" >Light Gradient Boosting Machine</td>\n",
       "                        <td id=\"T_a4fdec1c_00a8_11ee_90d4_842afdcc3e14row1_col1\" class=\"data row1 col1\" >0.4699</td>\n",
       "                        <td id=\"T_a4fdec1c_00a8_11ee_90d4_842afdcc3e14row1_col2\" class=\"data row1 col2\" >0.7232</td>\n",
       "                        <td id=\"T_a4fdec1c_00a8_11ee_90d4_842afdcc3e14row1_col3\" class=\"data row1 col3\" >0.4622</td>\n",
       "                        <td id=\"T_a4fdec1c_00a8_11ee_90d4_842afdcc3e14row1_col4\" class=\"data row1 col4\" >0.4636</td>\n",
       "                        <td id=\"T_a4fdec1c_00a8_11ee_90d4_842afdcc3e14row1_col5\" class=\"data row1 col5\" >0.4644</td>\n",
       "                        <td id=\"T_a4fdec1c_00a8_11ee_90d4_842afdcc3e14row1_col6\" class=\"data row1 col6\" >0.2890</td>\n",
       "                        <td id=\"T_a4fdec1c_00a8_11ee_90d4_842afdcc3e14row1_col7\" class=\"data row1 col7\" >0.2900</td>\n",
       "                        <td id=\"T_a4fdec1c_00a8_11ee_90d4_842afdcc3e14row1_col8\" class=\"data row1 col8\" >0.1190</td>\n",
       "            </tr>\n",
       "            <tr>\n",
       "                        <th id=\"T_a4fdec1c_00a8_11ee_90d4_842afdcc3e14level0_row2\" class=\"row_heading level0 row2\" >lr</th>\n",
       "                        <td id=\"T_a4fdec1c_00a8_11ee_90d4_842afdcc3e14row2_col0\" class=\"data row2 col0\" >Logistic Regression</td>\n",
       "                        <td id=\"T_a4fdec1c_00a8_11ee_90d4_842afdcc3e14row2_col1\" class=\"data row2 col1\" >0.4632</td>\n",
       "                        <td id=\"T_a4fdec1c_00a8_11ee_90d4_842afdcc3e14row2_col2\" class=\"data row2 col2\" >0.7202</td>\n",
       "                        <td id=\"T_a4fdec1c_00a8_11ee_90d4_842afdcc3e14row2_col3\" class=\"data row2 col3\" >0.4543</td>\n",
       "                        <td id=\"T_a4fdec1c_00a8_11ee_90d4_842afdcc3e14row2_col4\" class=\"data row2 col4\" >0.4523</td>\n",
       "                        <td id=\"T_a4fdec1c_00a8_11ee_90d4_842afdcc3e14row2_col5\" class=\"data row2 col5\" >0.4501</td>\n",
       "                        <td id=\"T_a4fdec1c_00a8_11ee_90d4_842afdcc3e14row2_col6\" class=\"data row2 col6\" >0.2803</td>\n",
       "                        <td id=\"T_a4fdec1c_00a8_11ee_90d4_842afdcc3e14row2_col7\" class=\"data row2 col7\" >0.2835</td>\n",
       "                        <td id=\"T_a4fdec1c_00a8_11ee_90d4_842afdcc3e14row2_col8\" class=\"data row2 col8\" >0.1060</td>\n",
       "            </tr>\n",
       "            <tr>\n",
       "                        <th id=\"T_a4fdec1c_00a8_11ee_90d4_842afdcc3e14level0_row3\" class=\"row_heading level0 row3\" >lda</th>\n",
       "                        <td id=\"T_a4fdec1c_00a8_11ee_90d4_842afdcc3e14row3_col0\" class=\"data row3 col0\" >Linear Discriminant Analysis</td>\n",
       "                        <td id=\"T_a4fdec1c_00a8_11ee_90d4_842afdcc3e14row3_col1\" class=\"data row3 col1\" >0.4573</td>\n",
       "                        <td id=\"T_a4fdec1c_00a8_11ee_90d4_842afdcc3e14row3_col2\" class=\"data row3 col2\" >0.7195</td>\n",
       "                        <td id=\"T_a4fdec1c_00a8_11ee_90d4_842afdcc3e14row3_col3\" class=\"data row3 col3\" >0.4493</td>\n",
       "                        <td id=\"T_a4fdec1c_00a8_11ee_90d4_842afdcc3e14row3_col4\" class=\"data row3 col4\" >0.4515</td>\n",
       "                        <td id=\"T_a4fdec1c_00a8_11ee_90d4_842afdcc3e14row3_col5\" class=\"data row3 col5\" >0.4437</td>\n",
       "                        <td id=\"T_a4fdec1c_00a8_11ee_90d4_842afdcc3e14row3_col6\" class=\"data row3 col6\" >0.2730</td>\n",
       "                        <td id=\"T_a4fdec1c_00a8_11ee_90d4_842afdcc3e14row3_col7\" class=\"data row3 col7\" >0.2777</td>\n",
       "                        <td id=\"T_a4fdec1c_00a8_11ee_90d4_842afdcc3e14row3_col8\" class=\"data row3 col8\" >0.0330</td>\n",
       "            </tr>\n",
       "            <tr>\n",
       "                        <th id=\"T_a4fdec1c_00a8_11ee_90d4_842afdcc3e14level0_row4\" class=\"row_heading level0 row4\" >ada</th>\n",
       "                        <td id=\"T_a4fdec1c_00a8_11ee_90d4_842afdcc3e14row4_col0\" class=\"data row4 col0\" >Ada Boost Classifier</td>\n",
       "                        <td id=\"T_a4fdec1c_00a8_11ee_90d4_842afdcc3e14row4_col1\" class=\"data row4 col1\" >0.4679</td>\n",
       "                        <td id=\"T_a4fdec1c_00a8_11ee_90d4_842afdcc3e14row4_col2\" class=\"data row4 col2\" >0.7154</td>\n",
       "                        <td id=\"T_a4fdec1c_00a8_11ee_90d4_842afdcc3e14row4_col3\" class=\"data row4 col3\" >0.4596</td>\n",
       "                        <td id=\"T_a4fdec1c_00a8_11ee_90d4_842afdcc3e14row4_col4\" class=\"data row4 col4\" >0.4620</td>\n",
       "                        <td id=\"T_a4fdec1c_00a8_11ee_90d4_842afdcc3e14row4_col5\" class=\"data row4 col5\" >0.4581</td>\n",
       "                        <td id=\"T_a4fdec1c_00a8_11ee_90d4_842afdcc3e14row4_col6\" class=\"data row4 col6\" >0.2867</td>\n",
       "                        <td id=\"T_a4fdec1c_00a8_11ee_90d4_842afdcc3e14row4_col7\" class=\"data row4 col7\" >0.2896</td>\n",
       "                        <td id=\"T_a4fdec1c_00a8_11ee_90d4_842afdcc3e14row4_col8\" class=\"data row4 col8\" >0.0930</td>\n",
       "            </tr>\n",
       "            <tr>\n",
       "                        <th id=\"T_a4fdec1c_00a8_11ee_90d4_842afdcc3e14level0_row5\" class=\"row_heading level0 row5\" >nb</th>\n",
       "                        <td id=\"T_a4fdec1c_00a8_11ee_90d4_842afdcc3e14row5_col0\" class=\"data row5 col0\" >Naive Bayes</td>\n",
       "                        <td id=\"T_a4fdec1c_00a8_11ee_90d4_842afdcc3e14row5_col1\" class=\"data row5 col1\" >0.4370</td>\n",
       "                        <td id=\"T_a4fdec1c_00a8_11ee_90d4_842afdcc3e14row5_col2\" class=\"data row5 col2\" >0.6930</td>\n",
       "                        <td id=\"T_a4fdec1c_00a8_11ee_90d4_842afdcc3e14row5_col3\" class=\"data row5 col3\" >0.4324</td>\n",
       "                        <td id=\"T_a4fdec1c_00a8_11ee_90d4_842afdcc3e14row5_col4\" class=\"data row5 col4\" >0.4280</td>\n",
       "                        <td id=\"T_a4fdec1c_00a8_11ee_90d4_842afdcc3e14row5_col5\" class=\"data row5 col5\" >0.4197</td>\n",
       "                        <td id=\"T_a4fdec1c_00a8_11ee_90d4_842afdcc3e14row5_col6\" class=\"data row5 col6\" >0.2487</td>\n",
       "                        <td id=\"T_a4fdec1c_00a8_11ee_90d4_842afdcc3e14row5_col7\" class=\"data row5 col7\" >0.2545</td>\n",
       "                        <td id=\"T_a4fdec1c_00a8_11ee_90d4_842afdcc3e14row5_col8\" class=\"data row5 col8\" >0.0200</td>\n",
       "            </tr>\n",
       "            <tr>\n",
       "                        <th id=\"T_a4fdec1c_00a8_11ee_90d4_842afdcc3e14level0_row6\" class=\"row_heading level0 row6\" >qda</th>\n",
       "                        <td id=\"T_a4fdec1c_00a8_11ee_90d4_842afdcc3e14row6_col0\" class=\"data row6 col0\" >Quadratic Discriminant Analysis</td>\n",
       "                        <td id=\"T_a4fdec1c_00a8_11ee_90d4_842afdcc3e14row6_col1\" class=\"data row6 col1\" >0.4313</td>\n",
       "                        <td id=\"T_a4fdec1c_00a8_11ee_90d4_842afdcc3e14row6_col2\" class=\"data row6 col2\" >0.6860</td>\n",
       "                        <td id=\"T_a4fdec1c_00a8_11ee_90d4_842afdcc3e14row6_col3\" class=\"data row6 col3\" >0.4269</td>\n",
       "                        <td id=\"T_a4fdec1c_00a8_11ee_90d4_842afdcc3e14row6_col4\" class=\"data row6 col4\" >0.4270</td>\n",
       "                        <td id=\"T_a4fdec1c_00a8_11ee_90d4_842afdcc3e14row6_col5\" class=\"data row6 col5\" >0.4228</td>\n",
       "                        <td id=\"T_a4fdec1c_00a8_11ee_90d4_842afdcc3e14row6_col6\" class=\"data row6 col6\" >0.2413</td>\n",
       "                        <td id=\"T_a4fdec1c_00a8_11ee_90d4_842afdcc3e14row6_col7\" class=\"data row6 col7\" >0.2441</td>\n",
       "                        <td id=\"T_a4fdec1c_00a8_11ee_90d4_842afdcc3e14row6_col8\" class=\"data row6 col8\" >0.0300</td>\n",
       "            </tr>\n",
       "            <tr>\n",
       "                        <th id=\"T_a4fdec1c_00a8_11ee_90d4_842afdcc3e14level0_row7\" class=\"row_heading level0 row7\" >rf</th>\n",
       "                        <td id=\"T_a4fdec1c_00a8_11ee_90d4_842afdcc3e14row7_col0\" class=\"data row7 col0\" >Random Forest Classifier</td>\n",
       "                        <td id=\"T_a4fdec1c_00a8_11ee_90d4_842afdcc3e14row7_col1\" class=\"data row7 col1\" >0.4170</td>\n",
       "                        <td id=\"T_a4fdec1c_00a8_11ee_90d4_842afdcc3e14row7_col2\" class=\"data row7 col2\" >0.6738</td>\n",
       "                        <td id=\"T_a4fdec1c_00a8_11ee_90d4_842afdcc3e14row7_col3\" class=\"data row7 col3\" >0.4117</td>\n",
       "                        <td id=\"T_a4fdec1c_00a8_11ee_90d4_842afdcc3e14row7_col4\" class=\"data row7 col4\" >0.4147</td>\n",
       "                        <td id=\"T_a4fdec1c_00a8_11ee_90d4_842afdcc3e14row7_col5\" class=\"data row7 col5\" >0.4153</td>\n",
       "                        <td id=\"T_a4fdec1c_00a8_11ee_90d4_842afdcc3e14row7_col6\" class=\"data row7 col6\" >0.2198</td>\n",
       "                        <td id=\"T_a4fdec1c_00a8_11ee_90d4_842afdcc3e14row7_col7\" class=\"data row7 col7\" >0.2200</td>\n",
       "                        <td id=\"T_a4fdec1c_00a8_11ee_90d4_842afdcc3e14row7_col8\" class=\"data row7 col8\" >0.3410</td>\n",
       "            </tr>\n",
       "            <tr>\n",
       "                        <th id=\"T_a4fdec1c_00a8_11ee_90d4_842afdcc3e14level0_row8\" class=\"row_heading level0 row8\" >knn</th>\n",
       "                        <td id=\"T_a4fdec1c_00a8_11ee_90d4_842afdcc3e14row8_col0\" class=\"data row8 col0\" >K Neighbors Classifier</td>\n",
       "                        <td id=\"T_a4fdec1c_00a8_11ee_90d4_842afdcc3e14row8_col1\" class=\"data row8 col1\" >0.4156</td>\n",
       "                        <td id=\"T_a4fdec1c_00a8_11ee_90d4_842afdcc3e14row8_col2\" class=\"data row8 col2\" >0.6657</td>\n",
       "                        <td id=\"T_a4fdec1c_00a8_11ee_90d4_842afdcc3e14row8_col3\" class=\"data row8 col3\" >0.4109</td>\n",
       "                        <td id=\"T_a4fdec1c_00a8_11ee_90d4_842afdcc3e14row8_col4\" class=\"data row8 col4\" >0.4261</td>\n",
       "                        <td id=\"T_a4fdec1c_00a8_11ee_90d4_842afdcc3e14row8_col5\" class=\"data row8 col5\" >0.4185</td>\n",
       "                        <td id=\"T_a4fdec1c_00a8_11ee_90d4_842afdcc3e14row8_col6\" class=\"data row8 col6\" >0.2188</td>\n",
       "                        <td id=\"T_a4fdec1c_00a8_11ee_90d4_842afdcc3e14row8_col7\" class=\"data row8 col7\" >0.2197</td>\n",
       "                        <td id=\"T_a4fdec1c_00a8_11ee_90d4_842afdcc3e14row8_col8\" class=\"data row8 col8\" >0.0940</td>\n",
       "            </tr>\n",
       "            <tr>\n",
       "                        <th id=\"T_a4fdec1c_00a8_11ee_90d4_842afdcc3e14level0_row9\" class=\"row_heading level0 row9\" >et</th>\n",
       "                        <td id=\"T_a4fdec1c_00a8_11ee_90d4_842afdcc3e14row9_col0\" class=\"data row9 col0\" >Extra Trees Classifier</td>\n",
       "                        <td id=\"T_a4fdec1c_00a8_11ee_90d4_842afdcc3e14row9_col1\" class=\"data row9 col1\" >0.4016</td>\n",
       "                        <td id=\"T_a4fdec1c_00a8_11ee_90d4_842afdcc3e14row9_col2\" class=\"data row9 col2\" >0.6423</td>\n",
       "                        <td id=\"T_a4fdec1c_00a8_11ee_90d4_842afdcc3e14row9_col3\" class=\"data row9 col3\" >0.3966</td>\n",
       "                        <td id=\"T_a4fdec1c_00a8_11ee_90d4_842afdcc3e14row9_col4\" class=\"data row9 col4\" >0.4043</td>\n",
       "                        <td id=\"T_a4fdec1c_00a8_11ee_90d4_842afdcc3e14row9_col5\" class=\"data row9 col5\" >0.4023</td>\n",
       "                        <td id=\"T_a4fdec1c_00a8_11ee_90d4_842afdcc3e14row9_col6\" class=\"data row9 col6\" >0.1996</td>\n",
       "                        <td id=\"T_a4fdec1c_00a8_11ee_90d4_842afdcc3e14row9_col7\" class=\"data row9 col7\" >0.1998</td>\n",
       "                        <td id=\"T_a4fdec1c_00a8_11ee_90d4_842afdcc3e14row9_col8\" class=\"data row9 col8\" >0.3690</td>\n",
       "            </tr>\n",
       "            <tr>\n",
       "                        <th id=\"T_a4fdec1c_00a8_11ee_90d4_842afdcc3e14level0_row10\" class=\"row_heading level0 row10\" >dt</th>\n",
       "                        <td id=\"T_a4fdec1c_00a8_11ee_90d4_842afdcc3e14row10_col0\" class=\"data row10 col0\" >Decision Tree Classifier</td>\n",
       "                        <td id=\"T_a4fdec1c_00a8_11ee_90d4_842afdcc3e14row10_col1\" class=\"data row10 col1\" >0.3836</td>\n",
       "                        <td id=\"T_a4fdec1c_00a8_11ee_90d4_842afdcc3e14row10_col2\" class=\"data row10 col2\" >0.5952</td>\n",
       "                        <td id=\"T_a4fdec1c_00a8_11ee_90d4_842afdcc3e14row10_col3\" class=\"data row10 col3\" >0.3796</td>\n",
       "                        <td id=\"T_a4fdec1c_00a8_11ee_90d4_842afdcc3e14row10_col4\" class=\"data row10 col4\" >0.3899</td>\n",
       "                        <td id=\"T_a4fdec1c_00a8_11ee_90d4_842afdcc3e14row10_col5\" class=\"data row10 col5\" >0.3856</td>\n",
       "                        <td id=\"T_a4fdec1c_00a8_11ee_90d4_842afdcc3e14row10_col6\" class=\"data row10 col6\" >0.1767</td>\n",
       "                        <td id=\"T_a4fdec1c_00a8_11ee_90d4_842afdcc3e14row10_col7\" class=\"data row10 col7\" >0.1771</td>\n",
       "                        <td id=\"T_a4fdec1c_00a8_11ee_90d4_842afdcc3e14row10_col8\" class=\"data row10 col8\" >0.0240</td>\n",
       "            </tr>\n",
       "            <tr>\n",
       "                        <th id=\"T_a4fdec1c_00a8_11ee_90d4_842afdcc3e14level0_row11\" class=\"row_heading level0 row11\" >dummy</th>\n",
       "                        <td id=\"T_a4fdec1c_00a8_11ee_90d4_842afdcc3e14row11_col0\" class=\"data row11 col0\" >Dummy Classifier</td>\n",
       "                        <td id=\"T_a4fdec1c_00a8_11ee_90d4_842afdcc3e14row11_col1\" class=\"data row11 col1\" >0.2807</td>\n",
       "                        <td id=\"T_a4fdec1c_00a8_11ee_90d4_842afdcc3e14row11_col2\" class=\"data row11 col2\" >0.5000</td>\n",
       "                        <td id=\"T_a4fdec1c_00a8_11ee_90d4_842afdcc3e14row11_col3\" class=\"data row11 col3\" >0.2500</td>\n",
       "                        <td id=\"T_a4fdec1c_00a8_11ee_90d4_842afdcc3e14row11_col4\" class=\"data row11 col4\" >0.0788</td>\n",
       "                        <td id=\"T_a4fdec1c_00a8_11ee_90d4_842afdcc3e14row11_col5\" class=\"data row11 col5\" >0.1230</td>\n",
       "                        <td id=\"T_a4fdec1c_00a8_11ee_90d4_842afdcc3e14row11_col6\" class=\"data row11 col6\" >0.0000</td>\n",
       "                        <td id=\"T_a4fdec1c_00a8_11ee_90d4_842afdcc3e14row11_col7\" class=\"data row11 col7\" >0.0000</td>\n",
       "                        <td id=\"T_a4fdec1c_00a8_11ee_90d4_842afdcc3e14row11_col8\" class=\"data row11 col8\" >0.0160</td>\n",
       "            </tr>\n",
       "            <tr>\n",
       "                        <th id=\"T_a4fdec1c_00a8_11ee_90d4_842afdcc3e14level0_row12\" class=\"row_heading level0 row12\" >svm</th>\n",
       "                        <td id=\"T_a4fdec1c_00a8_11ee_90d4_842afdcc3e14row12_col0\" class=\"data row12 col0\" >SVM - Linear Kernel</td>\n",
       "                        <td id=\"T_a4fdec1c_00a8_11ee_90d4_842afdcc3e14row12_col1\" class=\"data row12 col1\" >0.4217</td>\n",
       "                        <td id=\"T_a4fdec1c_00a8_11ee_90d4_842afdcc3e14row12_col2\" class=\"data row12 col2\" >0.0000</td>\n",
       "                        <td id=\"T_a4fdec1c_00a8_11ee_90d4_842afdcc3e14row12_col3\" class=\"data row12 col3\" >0.4118</td>\n",
       "                        <td id=\"T_a4fdec1c_00a8_11ee_90d4_842afdcc3e14row12_col4\" class=\"data row12 col4\" >0.4043</td>\n",
       "                        <td id=\"T_a4fdec1c_00a8_11ee_90d4_842afdcc3e14row12_col5\" class=\"data row12 col5\" >0.3884</td>\n",
       "                        <td id=\"T_a4fdec1c_00a8_11ee_90d4_842afdcc3e14row12_col6\" class=\"data row12 col6\" >0.2235</td>\n",
       "                        <td id=\"T_a4fdec1c_00a8_11ee_90d4_842afdcc3e14row12_col7\" class=\"data row12 col7\" >0.2328</td>\n",
       "                        <td id=\"T_a4fdec1c_00a8_11ee_90d4_842afdcc3e14row12_col8\" class=\"data row12 col8\" >0.0710</td>\n",
       "            </tr>\n",
       "            <tr>\n",
       "                        <th id=\"T_a4fdec1c_00a8_11ee_90d4_842afdcc3e14level0_row13\" class=\"row_heading level0 row13\" >ridge</th>\n",
       "                        <td id=\"T_a4fdec1c_00a8_11ee_90d4_842afdcc3e14row13_col0\" class=\"data row13 col0\" >Ridge Classifier</td>\n",
       "                        <td id=\"T_a4fdec1c_00a8_11ee_90d4_842afdcc3e14row13_col1\" class=\"data row13 col1\" >0.4585</td>\n",
       "                        <td id=\"T_a4fdec1c_00a8_11ee_90d4_842afdcc3e14row13_col2\" class=\"data row13 col2\" >0.0000</td>\n",
       "                        <td id=\"T_a4fdec1c_00a8_11ee_90d4_842afdcc3e14row13_col3\" class=\"data row13 col3\" >0.4487</td>\n",
       "                        <td id=\"T_a4fdec1c_00a8_11ee_90d4_842afdcc3e14row13_col4\" class=\"data row13 col4\" >0.4403</td>\n",
       "                        <td id=\"T_a4fdec1c_00a8_11ee_90d4_842afdcc3e14row13_col5\" class=\"data row13 col5\" >0.4273</td>\n",
       "                        <td id=\"T_a4fdec1c_00a8_11ee_90d4_842afdcc3e14row13_col6\" class=\"data row13 col6\" >0.2735</td>\n",
       "                        <td id=\"T_a4fdec1c_00a8_11ee_90d4_842afdcc3e14row13_col7\" class=\"data row13 col7\" >0.2817</td>\n",
       "                        <td id=\"T_a4fdec1c_00a8_11ee_90d4_842afdcc3e14row13_col8\" class=\"data row13 col8\" >0.0200</td>\n",
       "            </tr>\n",
       "    </tbody></table>"
      ],
      "text/plain": [
       "<pandas.io.formats.style.Styler at 0x28a6782e550>"
      ]
     },
     "metadata": {},
     "output_type": "display_data"
    }
   ],
   "source": [
    "#get the best model\n",
    "best = compare_models(sort = 'AUC')"
   ]
  },
  {
   "cell_type": "markdown",
   "metadata": {},
   "source": [
    "## 5) Evaluate"
   ]
  },
  {
   "cell_type": "code",
   "execution_count": null,
   "metadata": {},
   "outputs": [],
   "source": [
    "#evaluating model\n",
    "evaluate_model(best)"
   ]
  },
  {
   "cell_type": "code",
   "execution_count": null,
   "metadata": {},
   "outputs": [],
   "source": [
    "help(get_config)"
   ]
  },
  {
   "cell_type": "markdown",
   "metadata": {},
   "source": [
    "## **Conclusion / Future Scope:**"
   ]
  },
  {
   "cell_type": "markdown",
   "metadata": {},
   "source": [
    "1. Now we can go ahead & use this best model for predictions. \n",
    "2. We can use get_config & set_config, to understand the model. They allow to access & change everything in the background."
   ]
  }
 ],
 "metadata": {
  "kernelspec": {
   "display_name": "myenv_usecase",
   "language": "python",
   "name": "myenv_usecase"
  },
  "language_info": {
   "codemirror_mode": {
    "name": "ipython",
    "version": 3
   },
   "file_extension": ".py",
   "mimetype": "text/x-python",
   "name": "python",
   "nbconvert_exporter": "python",
   "pygments_lexer": "ipython3",
   "version": "3.6.13"
  }
 },
 "nbformat": 4,
 "nbformat_minor": 4
}
